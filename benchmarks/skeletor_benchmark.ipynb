{
 "cells": [
  {
   "cell_type": "markdown",
   "metadata": {},
   "source": [
    "### Skeletor benchmark\n",
    "My main reason for making ``skeletor`` was/is to skeletonize meshes produced from segmentation of neural tissue. That's why we will be using publicly available meshes from the Janelia [hemibrain project](https://neuprint.janelia.org) for testing. Bear this in mind as neurons with their thin processes might collapse earlier than other meshes.\n",
    "\n",
    "Other than ``skeletor`` and its dependencies, you will need the neuprint Python client, cloudvolume and seaborn:\n",
    "```\n",
    "$ pip install neuprint-python cloud-volume seaborn\n",
    "```"
   ]
  },
  {
   "cell_type": "code",
   "execution_count": 51,
   "metadata": {},
   "outputs": [],
   "source": [
    "import time\n",
    "\n",
    "import cloudvolume as cv\n",
    "import neuprint as neu\n",
    "import numpy as np\n",
    "import pandas as pd\n",
    "import skeletor as sk\n",
    "\n",
    "from tqdm.auto import tqdm\n",
    "\n",
    "import seaborn as sns\n",
    "import matplotlib.pyplot as plt\n",
    "\n",
    "sns.set_color_codes('muted')\n",
    "\n",
    "# v1.1 is the most recent dataset at time of writing this benchmark\n",
    "client = neu.Client('https://neuprint.janelia.org', dataset='hemibrain:v1.1')"
   ]
  },
  {
   "cell_type": "code",
   "execution_count": 2,
   "metadata": {},
   "outputs": [
    {
     "data": {
      "text/plain": [
       "[{'dataInstance': 'grayscalejpeg',\n",
       "  'dataType': 'image',\n",
       "  'host': 'https://hemibrain-dvid.janelia.org',\n",
       "  'name': 'grayscale',\n",
       "  'source': 'precomputed://gs://neuroglancer-janelia-flyem-hemibrain/emdata/clahe_yz/jpeg'},\n",
       " {'dataInstance': 'segmentation',\n",
       "  'dataType': 'segmentation',\n",
       "  'host': 'https://hemibrain-dvid.janelia.org',\n",
       "  'name': 'segmentation',\n",
       "  'source': 'precomputed://gs://neuroglancer-janelia-flyem-hemibrain/segmentation_52a13'},\n",
       " {'annotationColor': '#ff0000',\n",
       "  'dataInstance': 'public_annotations',\n",
       "  'dataType': 'annotation',\n",
       "  'host': 'https://hemibrain-dvid.janelia.org',\n",
       "  'tool': 'annotatePoint',\n",
       "  'uuid': '61c8'},\n",
       " {'dataInstance': 'synapses',\n",
       "  'dataType': 'annotation',\n",
       "  'host': 'https://hemibrain-dvid.janelia.org',\n",
       "  'linkedSegmentationLayer': True,\n",
       "  'name': 'synapses',\n",
       "  'source': 'precomputed://gs://neuroglancer-janelia-flyem-hemibrain/synapses_52a13'}]"
      ]
     },
     "execution_count": 2,
     "metadata": {},
     "output_type": "execute_result"
    }
   ],
   "source": [
    "# Find the mesh source\n",
    "client.meta['neuroglancerMeta']"
   ]
  },
  {
   "cell_type": "code",
   "execution_count": 3,
   "metadata": {},
   "outputs": [],
   "source": [
    "# Use the \"segmentation\" source\n",
    "vol = cv.CloudVolume('precomputed://gs://neuroglancer-janelia-flyem-hemibrain/segmentation_52a13', fill_missing=True)"
   ]
  },
  {
   "cell_type": "markdown",
   "metadata": {},
   "source": [
    "We will simply fetch a bunch of neurons of different sizes:"
   ]
  },
  {
   "cell_type": "code",
   "execution_count": 63,
   "metadata": {},
   "outputs": [
    {
     "name": "stdout",
     "output_type": "stream",
     "text": [
      "\n"
     ]
    },
    {
     "data": {
      "text/html": [
       "<div>\n",
       "<style scoped>\n",
       "    .dataframe tbody tr th:only-of-type {\n",
       "        vertical-align: middle;\n",
       "    }\n",
       "\n",
       "    .dataframe tbody tr th {\n",
       "        vertical-align: top;\n",
       "    }\n",
       "\n",
       "    .dataframe thead th {\n",
       "        text-align: right;\n",
       "    }\n",
       "</style>\n",
       "<table border=\"1\" class=\"dataframe\">\n",
       "  <thead>\n",
       "    <tr style=\"text-align: right;\">\n",
       "      <th></th>\n",
       "      <th>bodyId</th>\n",
       "      <th>instance</th>\n",
       "      <th>type</th>\n",
       "      <th>pre</th>\n",
       "      <th>post</th>\n",
       "      <th>size</th>\n",
       "      <th>status</th>\n",
       "      <th>cropped</th>\n",
       "      <th>statusLabel</th>\n",
       "      <th>cellBodyFiber</th>\n",
       "      <th>somaRadius</th>\n",
       "      <th>somaLocation</th>\n",
       "      <th>inputRois</th>\n",
       "      <th>outputRois</th>\n",
       "      <th>roiInfo</th>\n",
       "    </tr>\n",
       "  </thead>\n",
       "  <tbody>\n",
       "    <tr>\n",
       "      <th>0</th>\n",
       "      <td>198469830</td>\n",
       "      <td>None</td>\n",
       "      <td>None</td>\n",
       "      <td>0</td>\n",
       "      <td>0</td>\n",
       "      <td>6663005</td>\n",
       "      <td>Traced</td>\n",
       "      <td>True</td>\n",
       "      <td>Leaves</td>\n",
       "      <td>None</td>\n",
       "      <td>299.0</td>\n",
       "      <td>[33045, 15655, 3280]</td>\n",
       "      <td>[]</td>\n",
       "      <td>[]</td>\n",
       "      <td>{}</td>\n",
       "    </tr>\n",
       "    <tr>\n",
       "      <th>1</th>\n",
       "      <td>198810827</td>\n",
       "      <td>None</td>\n",
       "      <td>None</td>\n",
       "      <td>0</td>\n",
       "      <td>0</td>\n",
       "      <td>9211633</td>\n",
       "      <td>Traced</td>\n",
       "      <td>True</td>\n",
       "      <td>Leaves</td>\n",
       "      <td>None</td>\n",
       "      <td>299.0</td>\n",
       "      <td>[33014, 16221, 3088]</td>\n",
       "      <td>[]</td>\n",
       "      <td>[]</td>\n",
       "      <td>{}</td>\n",
       "    </tr>\n",
       "    <tr>\n",
       "      <th>2</th>\n",
       "      <td>198815212</td>\n",
       "      <td>None</td>\n",
       "      <td>None</td>\n",
       "      <td>0</td>\n",
       "      <td>0</td>\n",
       "      <td>27720313</td>\n",
       "      <td>Traced</td>\n",
       "      <td>True</td>\n",
       "      <td>Leaves</td>\n",
       "      <td>None</td>\n",
       "      <td>299.0</td>\n",
       "      <td>[33342, 16128, 3216]</td>\n",
       "      <td>[]</td>\n",
       "      <td>[]</td>\n",
       "      <td>{}</td>\n",
       "    </tr>\n",
       "    <tr>\n",
       "      <th>3</th>\n",
       "      <td>199147536</td>\n",
       "      <td>None</td>\n",
       "      <td>None</td>\n",
       "      <td>0</td>\n",
       "      <td>0</td>\n",
       "      <td>58523742</td>\n",
       "      <td>Traced</td>\n",
       "      <td>True</td>\n",
       "      <td>Leaves</td>\n",
       "      <td>None</td>\n",
       "      <td>299.0</td>\n",
       "      <td>[32412, 16453, 3356]</td>\n",
       "      <td>[]</td>\n",
       "      <td>[]</td>\n",
       "      <td>{}</td>\n",
       "    </tr>\n",
       "    <tr>\n",
       "      <th>4</th>\n",
       "      <td>199156210</td>\n",
       "      <td>None</td>\n",
       "      <td>None</td>\n",
       "      <td>0</td>\n",
       "      <td>0</td>\n",
       "      <td>82392547</td>\n",
       "      <td>Traced</td>\n",
       "      <td>True</td>\n",
       "      <td>Leaves</td>\n",
       "      <td>None</td>\n",
       "      <td>299.0</td>\n",
       "      <td>[33401, 16741, 3240]</td>\n",
       "      <td>[]</td>\n",
       "      <td>[]</td>\n",
       "      <td>{}</td>\n",
       "    </tr>\n",
       "  </tbody>\n",
       "</table>\n",
       "</div>"
      ],
      "text/plain": [
       "      bodyId instance  type  pre  post      size  status  cropped statusLabel  \\\n",
       "0  198469830     None  None    0     0   6663005  Traced     True      Leaves   \n",
       "1  198810827     None  None    0     0   9211633  Traced     True      Leaves   \n",
       "2  198815212     None  None    0     0  27720313  Traced     True      Leaves   \n",
       "3  199147536     None  None    0     0  58523742  Traced     True      Leaves   \n",
       "4  199156210     None  None    0     0  82392547  Traced     True      Leaves   \n",
       "\n",
       "  cellBodyFiber  somaRadius          somaLocation inputRois outputRois roiInfo  \n",
       "0          None       299.0  [33045, 15655, 3280]        []         []      {}  \n",
       "1          None       299.0  [33014, 16221, 3088]        []         []      {}  \n",
       "2          None       299.0  [33342, 16128, 3216]        []         []      {}  \n",
       "3          None       299.0  [32412, 16453, 3356]        []         []      {}  \n",
       "4          None       299.0  [33401, 16741, 3240]        []         []      {}  "
      ]
     },
     "execution_count": 63,
     "metadata": {},
     "output_type": "execute_result"
    }
   ],
   "source": [
    "# Grab a list of neurons\n",
    "neurons, _  = neu.fetch_neurons(neu.NeuronCriteria(status='Traced'))\n",
    "neurons.head()"
   ]
  },
  {
   "cell_type": "markdown",
   "metadata": {},
   "source": [
    "``size`` is their size in voxels and should co-relate with the complexity of the mesh. We will grab 10 neurons from very small to very large and skeletonize their meshes."
   ]
  },
  {
   "cell_type": "code",
   "execution_count": 15,
   "metadata": {},
   "outputs": [
    {
     "data": {
      "text/plain": [
       "Mesh(vertices<346>, faces<756>, normals<0>, segid=None, encoding_type=<draco>)"
      ]
     },
     "execution_count": 15,
     "metadata": {},
     "output_type": "execute_result"
    }
   ],
   "source": [
    "bodyid = 198469830\n",
    "mesh = vol.mesh.get(bodyid, lod=2)[bodyid]\n",
    "mesh"
   ]
  },
  {
   "cell_type": "code",
   "execution_count": 16,
   "metadata": {},
   "outputs": [],
   "source": [
    "def time_function(func, *args, **kwargs):\n",
    "    \"\"\"Time function.\"\"\"\n",
    "    start = time.time()\n",
    "    res = func(*args, **kwargs)\n",
    "    return res, (time.time() - start)\n",
    "\n",
    "def benchmark_neuron(bodyid, lod=2):\n",
    "    \"\"\"Benchmark the collapse and skeletonization of a neuron.\n",
    "    \n",
    "    Returns\n",
    "    -------\n",
    "    list\n",
    "            [bodyId, n_faces, collapse_time[s], vertex_cluster[s], edge_collapse[s]]\n",
    "            \n",
    "    \"\"\"\n",
    "    mesh = vol.mesh.get(bodyid, lod=lod)[bodyid]\n",
    "    \n",
    "    clps, clps_time = time_function(sk.contract, mesh, validate=True, progress=False)\n",
    "    \n",
    "    _, vc_time = time_function(sk.skeletonize, clps, method='vertex_clusters', validate=False, sampling_dist=100, progress=False)\n",
    "    _, ec_time = time_function(sk.skeletonize, clps, method='edge_collapse', validate=False, progress=False)\n",
    "    \n",
    "    return [bodyid, mesh.faces.shape[0], clps_time, vc_time, ec_time]    "
   ]
  },
  {
   "cell_type": "code",
   "execution_count": 69,
   "metadata": {},
   "outputs": [
    {
     "data": {
      "text/plain": [
       "(0.0, 5000000000.0)"
      ]
     },
     "execution_count": 69,
     "metadata": {},
     "output_type": "execute_result"
    },
    {
     "data": {
      "image/png": "[encoded data removed]",
      "text/plain": [
       "<Figure size 432x288 with 1 Axes>"
      ]
     },
     "metadata": {
      "needs_background": "light"
     },
     "output_type": "display_data"
    }
   ],
   "source": [
    "ax = neurons['size'].hist(bins=300)\n",
    "ax.set_xlim(0, .5e10)"
   ]
  },
  {
   "cell_type": "code",
   "execution_count": 73,
   "metadata": {},
   "outputs": [
    {
     "data": {
      "text/plain": [
       "array([198469830, 199156210, 202230012, 202916528, 203240076, 206313858,\n",
       "       263674097, 266187383, 203598466, 266187342, 266187477, 203594164,\n",
       "       200326126, 266191395, 267223027, 295802733, 294791509, 265120597,\n",
       "       295103172, 264083994, 263475451, 297912117, 297243542, 295816140,\n",
       "       234630133, 233105330, 203253253, 294161385, 298616588, 268731005])"
      ]
     },
     "execution_count": 73,
     "metadata": {},
     "output_type": "execute_result"
    }
   ],
   "source": [
    "# Exclude some really small or really massive neurons and then bin by size\n",
    "to_sample = neurons[(neurons['size'] <= 2e9) & (neurons['size'] >= 0.001e9)].copy()\n",
    "to_sample['sizebin'] = pd.cut(to_sample['size'], bins=30)\n",
    "\n",
    "# Pick one neuron per bin\n",
    "to_sample = to_sample.groupby('sizebin').bodyId.first().values\n",
    "to_sample = to_sample[~np.isnan(to_sample)]\n",
    "to_sample"
   ]
  },
  {
   "cell_type": "code",
   "execution_count": 74,
   "metadata": {},
   "outputs": [
    {
     "data": {
      "text/plain": [
       "(30,)"
      ]
     },
     "execution_count": 74,
     "metadata": {},
     "output_type": "execute_result"
    }
   ],
   "source": [
    "to_sample.shape"
   ]
  },
  {
   "cell_type": "code",
   "execution_count": 75,
   "metadata": {},
   "outputs": [
    {
     "data": {
      "application/vnd.jupyter.widget-view+json": {
       "model_id": "c0418b2574864944869404d95777c4a8",
       "version_major": 2,
       "version_minor": 0
      },
      "text/plain": [
       "HBox(children=(FloatProgress(value=0.0, max=30.0), HTML(value='')))"
      ]
     },
     "metadata": {},
     "output_type": "display_data"
    },
    {
     "name": "stdout",
     "output_type": "stream",
     "text": [
      "\n"
     ]
    }
   ],
   "source": [
    "# Benchmark\n",
    "benched = pd.DataFrame([benchmark_neuron(b, lod=2) for b in tqdm(to_sample)],\n",
    "                        columns=['bodyId', 'n_faces', 't_collapse', 't_vertex', 't_edge'])"
   ]
  },
  {
   "cell_type": "code",
   "execution_count": 76,
   "metadata": {},
   "outputs": [
    {
     "data": {
      "text/html": [
       "<div>\n",
       "<style scoped>\n",
       "    .dataframe tbody tr th:only-of-type {\n",
       "        vertical-align: middle;\n",
       "    }\n",
       "\n",
       "    .dataframe tbody tr th {\n",
       "        vertical-align: top;\n",
       "    }\n",
       "\n",
       "    .dataframe thead th {\n",
       "        text-align: right;\n",
       "    }\n",
       "</style>\n",
       "<table border=\"1\" class=\"dataframe\">\n",
       "  <thead>\n",
       "    <tr style=\"text-align: right;\">\n",
       "      <th></th>\n",
       "      <th>bodyId</th>\n",
       "      <th>n_faces</th>\n",
       "      <th>t_collapse</th>\n",
       "      <th>t_vertex</th>\n",
       "      <th>t_edge</th>\n",
       "    </tr>\n",
       "  </thead>\n",
       "  <tbody>\n",
       "    <tr>\n",
       "      <th>0</th>\n",
       "      <td>198469830</td>\n",
       "      <td>756</td>\n",
       "      <td>0.482517</td>\n",
       "      <td>0.017278</td>\n",
       "      <td>0.247663</td>\n",
       "    </tr>\n",
       "    <tr>\n",
       "      <th>1</th>\n",
       "      <td>199156210</td>\n",
       "      <td>2158</td>\n",
       "      <td>1.295799</td>\n",
       "      <td>0.045239</td>\n",
       "      <td>1.203872</td>\n",
       "    </tr>\n",
       "    <tr>\n",
       "      <th>2</th>\n",
       "      <td>202230012</td>\n",
       "      <td>2389</td>\n",
       "      <td>1.653912</td>\n",
       "      <td>0.068088</td>\n",
       "      <td>1.345689</td>\n",
       "    </tr>\n",
       "    <tr>\n",
       "      <th>3</th>\n",
       "      <td>202916528</td>\n",
       "      <td>24024</td>\n",
       "      <td>11.667735</td>\n",
       "      <td>0.618897</td>\n",
       "      <td>50.982211</td>\n",
       "    </tr>\n",
       "    <tr>\n",
       "      <th>4</th>\n",
       "      <td>203240076</td>\n",
       "      <td>6860</td>\n",
       "      <td>4.556823</td>\n",
       "      <td>0.169309</td>\n",
       "      <td>9.064974</td>\n",
       "    </tr>\n",
       "  </tbody>\n",
       "</table>\n",
       "</div>"
      ],
      "text/plain": [
       "      bodyId  n_faces  t_collapse  t_vertex     t_edge\n",
       "0  198469830      756    0.482517  0.017278   0.247663\n",
       "1  199156210     2158    1.295799  0.045239   1.203872\n",
       "2  202230012     2389    1.653912  0.068088   1.345689\n",
       "3  202916528    24024   11.667735  0.618897  50.982211\n",
       "4  203240076     6860    4.556823  0.169309   9.064974"
      ]
     },
     "execution_count": 76,
     "metadata": {},
     "output_type": "execute_result"
    }
   ],
   "source": [
    "benched.head()"
   ]
  },
  {
   "cell_type": "code",
   "execution_count": 87,
   "metadata": {},
   "outputs": [
    {
     "data": {
      "image/png": "[encoded data removed]",
      "text/plain": [
       "<Figure size 432x288 with 1 Axes>"
      ]
     },
     "metadata": {
      "needs_background": "light"
     },
     "output_type": "display_data"
    }
   ],
   "source": [
    "ax = sns.regplot(data=benched, x='n_faces', y='t_collapse', label='mesh contraction')\n",
    "_ = sns.regplot(data=benched, x='n_faces', y='t_vertex', label='vertex clustering\\n(skeletonization)', ax=ax)\n",
    "_ = sns.regplot(data=benched, x='n_faces', y='t_edge', label='edge collapse\\n(skeletonization)', order=2, ax=ax)\n",
    "\n",
    "ax.legend()\n",
    "\n",
    "ax.set_xlabel('faces')\n",
    "ax.set_ylabel('time [s]')\n",
    "\n",
    "sns.despine(trim=True)\n",
    "plt.savefig('benchmark_1.png')"
   ]
  },
  {
   "cell_type": "code",
   "execution_count": 147,
   "metadata": {},
   "outputs": [
    {
     "data": {
      "image/png": "[encoded data removed]",
      "text/plain": [
       "<Figure size 1152x288 with 3 Axes>"
      ]
     },
     "metadata": {
      "needs_background": "light"
     },
     "output_type": "display_data"
    }
   ],
   "source": [
    "fig, axes = plt.subplots(1, 3, figsize=(16, 4), sharex=True)\n",
    "\n",
    "_ = sns.regplot(data=benched, x='n_faces', y='t_collapse', label='mesh contraction', ax=axes[0], color='b')\n",
    "_ = sns.regplot(data=benched, x='n_faces', y='t_vertex', label='vertex clustering\\n(skeletonization)', order=2, ax=axes[1], color='orange')\n",
    "_ = sns.regplot(data=benched, x='n_faces', y='t_edge', label='edge collapse\\n(skeletonization)', order=2, ax=axes[2], color='g')\n",
    "\n",
    "for ax in axes:\n",
    "    ax.legend()\n",
    "    ax.set_xlabel('faces')\n",
    "    ax.set_ylabel('time [s]')\n",
    "\n",
    "sns.despine(trim=False)\n",
    "plt.tight_layout()\n",
    "plt.savefig('benchmark_2.png')"
   ]
  }
 ],
 "metadata": {
  "kernelspec": {
   "display_name": "Python 3",
   "language": "python",
   "name": "python3"
  },
  "language_info": {
   "codemirror_mode": {
    "name": "ipython",
    "version": 3
   },
   "file_extension": ".py",
   "mimetype": "text/x-python",
   "name": "python",
   "nbconvert_exporter": "python",
   "pygments_lexer": "ipython3",
   "version": "3.7.5"
  }
 },
 "nbformat": 4,
 "nbformat_minor": 4
}
