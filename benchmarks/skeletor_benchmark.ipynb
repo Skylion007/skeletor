{
 "cells": [
  {
   "cell_type": "markdown",
   "metadata": {},
   "source": [
    "### Skeletor benchmark\n",
    "My main reason for making ``skeletor`` was/is to skeletonize meshes produced from segmentation of neural tissue. That's why we will be using publicly available meshes from the Janelia [hemibrain project](https://neuprint.janelia.org) for testing. Bear this in mind as neurons with their thin processes might collapse earlier than other meshes.\n",
    "\n",
    "Other than ``skeletor`` and its dependencies, you will need the neuprint Python client, cloudvolume and seaborn:\n",
    "```\n",
    "$ pip install neuprint-python cloud-volume seaborn\n",
    "```"
   ]
  },
  {
   "cell_type": "code",
   "execution_count": 1,
   "metadata": {},
   "outputs": [],
   "source": [
    "import time\n",
    "\n",
    "import cloudvolume as cv\n",
    "import neuprint as neu\n",
    "import numpy as np\n",
    "import pandas as pd\n",
    "import skeletor as sk\n",
    "\n",
    "from tqdm import tqdm\n",
    "\n",
    "import seaborn as sns\n",
    "import matplotlib.pyplot as plt\n",
    "\n",
    "sns.set_color_codes('muted')\n",
    "\n",
    "# v1.2 is the most recent dataset at time of writing this benchmark\n",
    "client = neu.Client('https://neuprint.janelia.org', dataset='hemibrain:v1.2')"
   ]
  },
  {
   "cell_type": "code",
   "execution_count": 2,
   "metadata": {},
   "outputs": [
    {
     "data": {
      "text/plain": [
       "[{'dataInstance': 'grayscalejpeg',\n",
       "  'dataType': 'image',\n",
       "  'host': 'https://hemibrain-dvid.janelia.org',\n",
       "  'name': 'grayscale',\n",
       "  'source': 'precomputed://gs://neuroglancer-janelia-flyem-hemibrain/emdata/clahe_yz/jpeg'},\n",
       " {'dataInstance': 'segmentation',\n",
       "  'dataType': 'segmentation',\n",
       "  'host': 'https://hemibrain-dvid.janelia.org',\n",
       "  'name': 'segmentation',\n",
       "  'source': 'precomputed://gs://neuroglancer-janelia-flyem-hemibrain/v1.2/segmentation'},\n",
       " {'annotationColor': '#ff0000',\n",
       "  'dataInstance': 'public_annotations',\n",
       "  'dataType': 'annotation',\n",
       "  'host': 'https://hemibrain-dvid.janelia.org',\n",
       "  'tool': 'annotatePoint',\n",
       "  'uuid': '3159'},\n",
       " {'dataInstance': 'synapses',\n",
       "  'dataType': 'annotation',\n",
       "  'host': 'https://hemibrain-dvid.janelia.org',\n",
       "  'linkedSegmentationLayer': True,\n",
       "  'name': 'synapses',\n",
       "  'source': 'precomputed://gs://neuroglancer-janelia-flyem-hemibrain/v1.2/synapses'}]"
      ]
     },
     "execution_count": 2,
     "metadata": {},
     "output_type": "execute_result"
    }
   ],
   "source": [
    "# Find the mesh source\n",
    "client.meta['neuroglancerMeta']"
   ]
  },
  {
   "cell_type": "code",
   "execution_count": 2,
   "metadata": {},
   "outputs": [],
   "source": [
    "# Use the \"segmentation\" source\n",
    "vol = cv.CloudVolume('precomputed://gs://neuroglancer-janelia-flyem-hemibrain/v1.2/segmentation', fill_missing=True)"
   ]
  },
  {
   "cell_type": "markdown",
   "metadata": {},
   "source": [
    "We will simply fetch a bunch of neurons of different sizes:"
   ]
  },
  {
   "cell_type": "code",
   "execution_count": 3,
   "metadata": {},
   "outputs": [
    {
     "data": {
      "text/html": [
       "<div>\n",
       "<style scoped>\n",
       "    .dataframe tbody tr th:only-of-type {\n",
       "        vertical-align: middle;\n",
       "    }\n",
       "\n",
       "    .dataframe tbody tr th {\n",
       "        vertical-align: top;\n",
       "    }\n",
       "\n",
       "    .dataframe thead th {\n",
       "        text-align: right;\n",
       "    }\n",
       "</style>\n",
       "<table border=\"1\" class=\"dataframe\">\n",
       "  <thead>\n",
       "    <tr style=\"text-align: right;\">\n",
       "      <th></th>\n",
       "      <th>bodyId</th>\n",
       "      <th>instance</th>\n",
       "      <th>type</th>\n",
       "      <th>pre</th>\n",
       "      <th>post</th>\n",
       "      <th>size</th>\n",
       "      <th>status</th>\n",
       "      <th>cropped</th>\n",
       "      <th>statusLabel</th>\n",
       "      <th>cellBodyFiber</th>\n",
       "      <th>somaRadius</th>\n",
       "      <th>somaLocation</th>\n",
       "      <th>inputRois</th>\n",
       "      <th>outputRois</th>\n",
       "      <th>roiInfo</th>\n",
       "    </tr>\n",
       "  </thead>\n",
       "  <tbody>\n",
       "    <tr>\n",
       "      <th>0</th>\n",
       "      <td>198469830</td>\n",
       "      <td>None</td>\n",
       "      <td>None</td>\n",
       "      <td>0</td>\n",
       "      <td>0</td>\n",
       "      <td>6665418</td>\n",
       "      <td>Traced</td>\n",
       "      <td>True</td>\n",
       "      <td>Leaves</td>\n",
       "      <td>None</td>\n",
       "      <td>299.0</td>\n",
       "      <td>[33045, 15655, 3280]</td>\n",
       "      <td>[]</td>\n",
       "      <td>[]</td>\n",
       "      <td>{}</td>\n",
       "    </tr>\n",
       "    <tr>\n",
       "      <th>1</th>\n",
       "      <td>198810827</td>\n",
       "      <td>None</td>\n",
       "      <td>None</td>\n",
       "      <td>0</td>\n",
       "      <td>0</td>\n",
       "      <td>9211633</td>\n",
       "      <td>Traced</td>\n",
       "      <td>True</td>\n",
       "      <td>Leaves</td>\n",
       "      <td>None</td>\n",
       "      <td>299.0</td>\n",
       "      <td>[33014, 16221, 3088]</td>\n",
       "      <td>[]</td>\n",
       "      <td>[]</td>\n",
       "      <td>{}</td>\n",
       "    </tr>\n",
       "    <tr>\n",
       "      <th>2</th>\n",
       "      <td>198815212</td>\n",
       "      <td>None</td>\n",
       "      <td>None</td>\n",
       "      <td>0</td>\n",
       "      <td>0</td>\n",
       "      <td>27720313</td>\n",
       "      <td>Traced</td>\n",
       "      <td>True</td>\n",
       "      <td>Leaves</td>\n",
       "      <td>None</td>\n",
       "      <td>299.0</td>\n",
       "      <td>[33342, 16128, 3216]</td>\n",
       "      <td>[]</td>\n",
       "      <td>[]</td>\n",
       "      <td>{}</td>\n",
       "    </tr>\n",
       "    <tr>\n",
       "      <th>3</th>\n",
       "      <td>199147536</td>\n",
       "      <td>None</td>\n",
       "      <td>None</td>\n",
       "      <td>0</td>\n",
       "      <td>0</td>\n",
       "      <td>58580023</td>\n",
       "      <td>Traced</td>\n",
       "      <td>True</td>\n",
       "      <td>Leaves</td>\n",
       "      <td>None</td>\n",
       "      <td>299.0</td>\n",
       "      <td>[32412, 16453, 3356]</td>\n",
       "      <td>[]</td>\n",
       "      <td>[]</td>\n",
       "      <td>{}</td>\n",
       "    </tr>\n",
       "    <tr>\n",
       "      <th>4</th>\n",
       "      <td>199156210</td>\n",
       "      <td>None</td>\n",
       "      <td>None</td>\n",
       "      <td>0</td>\n",
       "      <td>0</td>\n",
       "      <td>82402138</td>\n",
       "      <td>Traced</td>\n",
       "      <td>True</td>\n",
       "      <td>Leaves</td>\n",
       "      <td>None</td>\n",
       "      <td>299.0</td>\n",
       "      <td>[33401, 16741, 3240]</td>\n",
       "      <td>[]</td>\n",
       "      <td>[]</td>\n",
       "      <td>{}</td>\n",
       "    </tr>\n",
       "  </tbody>\n",
       "</table>\n",
       "</div>"
      ],
      "text/plain": [
       "      bodyId instance  type  pre  post      size  status  cropped statusLabel  \\\n",
       "0  198469830     None  None    0     0   6665418  Traced     True      Leaves   \n",
       "1  198810827     None  None    0     0   9211633  Traced     True      Leaves   \n",
       "2  198815212     None  None    0     0  27720313  Traced     True      Leaves   \n",
       "3  199147536     None  None    0     0  58580023  Traced     True      Leaves   \n",
       "4  199156210     None  None    0     0  82402138  Traced     True      Leaves   \n",
       "\n",
       "  cellBodyFiber  somaRadius          somaLocation inputRois outputRois roiInfo  \n",
       "0          None       299.0  [33045, 15655, 3280]        []         []      {}  \n",
       "1          None       299.0  [33014, 16221, 3088]        []         []      {}  \n",
       "2          None       299.0  [33342, 16128, 3216]        []         []      {}  \n",
       "3          None       299.0  [32412, 16453, 3356]        []         []      {}  \n",
       "4          None       299.0  [33401, 16741, 3240]        []         []      {}  "
      ]
     },
     "execution_count": 3,
     "metadata": {},
     "output_type": "execute_result"
    }
   ],
   "source": [
    "# Grab a list of neurons\n",
    "neurons, _  = neu.fetch_neurons(neu.NeuronCriteria(status='Traced'))\n",
    "neurons.head()"
   ]
  },
  {
   "cell_type": "markdown",
   "metadata": {},
   "source": [
    "``size`` is their size in voxels and should co-relate with the complexity of the mesh. We will grab 10 neurons from very small to very large and skeletonize their meshes."
   ]
  },
  {
   "cell_type": "code",
   "execution_count": 5,
   "metadata": {},
   "outputs": [
    {
     "data": {
      "text/plain": [
       "Mesh(vertices<338>, faces<740>, normals<0>, segid=None, encoding_type=<draco>)"
      ]
     },
     "execution_count": 5,
     "metadata": {},
     "output_type": "execute_result"
    }
   ],
   "source": [
    "bodyid = 198469830\n",
    "mesh = vol.mesh.get(bodyid, lod=2)[bodyid]\n",
    "mesh"
   ]
  },
  {
   "cell_type": "code",
   "execution_count": 4,
   "metadata": {},
   "outputs": [],
   "source": [
    "def time_function(func, *args, **kwargs):\n",
    "    \"\"\"Time function.\"\"\"\n",
    "    start = time.time()\n",
    "    res = func(*args, **kwargs)\n",
    "    return res, (time.time() - start)\n",
    "\n",
    "def benchmark_neuron(bodyid, lod=2, progress=False):\n",
    "    \"\"\"Benchmark the collapse and skeletonization of a neuron.\n",
    "    \n",
    "    Returns\n",
    "    -------\n",
    "    list\n",
    "            [bodyId, n_faces, collapse_time[s], vertex_cluster[s], edge_collapse[s]]\n",
    "            \n",
    "    \"\"\"\n",
    "    mesh = vol.mesh.get(bodyid, lod=lod)[bodyid]\n",
    "    \n",
    "    mesh = sk.utilities.make_trimesh(mesh)\n",
    "    \n",
    "    fixed, fx_time = time_function(sk.pre.fix_mesh, mesh)\n",
    "    \n",
    "    try:\n",
    "        clps, clps_time = time_function(sk.pre.contract, fixed, epsilon=0.1, validate=True, progress=progress)\n",
    "        eps = clps.epsilon\n",
    "    except:        \n",
    "        tqdm.write(str(bodyid))\n",
    "        clps, clps_time, eps = fixed, None, None\n",
    "    \n",
    "    _, vc_time = time_function(sk.skeletonize.by_vertex_clusters, clps, sampling_dist=100, progress=progress)\n",
    "    _, ec_time = time_function(sk.skeletonize.by_edge_collapse, clps, progress=progress)\n",
    "    _, wf_time = time_function(sk.skeletonize.by_wavefront, mesh, progress=progress)\n",
    "    \n",
    "    return [bodyid, mesh.faces.shape[0], fx_time, clps_time, eps, vc_time, ec_time, wf_time]    "
   ]
  },
  {
   "cell_type": "code",
   "execution_count": 7,
   "metadata": {},
   "outputs": [
    {
     "data": {
      "text/plain": [
       "(0.0, 5000000000.0)"
      ]
     },
     "execution_count": 7,
     "metadata": {},
     "output_type": "execute_result"
    },
    {
     "data": {
      "image/png": "[encoded data removed]",
      "text/plain": [
       "<Figure size 432x288 with 1 Axes>"
      ]
     },
     "metadata": {
      "needs_background": "light"
     },
     "output_type": "display_data"
    }
   ],
   "source": [
    "ax = neurons['size'].hist(bins=300)\n",
    "ax.set_xlim(0, .5e10)"
   ]
  },
  {
   "cell_type": "code",
   "execution_count": 5,
   "metadata": {},
   "outputs": [
    {
     "data": {
      "text/plain": [
       "array([198469830, 199156210, 202230012, 202916528, 203240076, 206313858,\n",
       "       263674097, 266187383, 203598466, 204962969, 266187477, 203594164,\n",
       "       200326126, 294437347, 266191395, 295802733, 294791509, 265120597,\n",
       "       295103172, 264083994, 263475451, 297912117, 298250090, 295816140,\n",
       "       234630133, 233105330, 203253253, 294161385, 298616588, 268731005])"
      ]
     },
     "execution_count": 5,
     "metadata": {},
     "output_type": "execute_result"
    }
   ],
   "source": [
    "# Exclude some really small or really massive neurons and then bin by size\n",
    "to_sample = neurons[(neurons['size'] <= 2e9) & (neurons['size'] >= 0.001e9)].copy()\n",
    "to_sample['sizebin'] = pd.cut(to_sample['size'], bins=30)\n",
    "\n",
    "# Pick one neuron per bin\n",
    "to_sample = to_sample.groupby('sizebin').bodyId.first().values\n",
    "to_sample = to_sample[~np.isnan(to_sample)]\n",
    "to_sample"
   ]
  },
  {
   "cell_type": "code",
   "execution_count": 47,
   "metadata": {},
   "outputs": [],
   "source": [
    "mesh = vol.mesh.get(206313858, lod=2)[206313858]\n",
    "mesh = sk.utilities.make_trimesh(mesh)"
   ]
  },
  {
   "cell_type": "code",
   "execution_count": 6,
   "metadata": {},
   "outputs": [
    {
     "name": "stderr",
     "output_type": "stream",
     "text": [
      "100%|██████████| 30/30 [5:42:45<00:00, 685.53s/it]   \n"
     ]
    }
   ],
   "source": [
    "# Benchmark\n",
    "benched = pd.DataFrame([benchmark_neuron(b, lod=2, progress=False) for b in tqdm(to_sample)],\n",
    "                        columns=['bodyId', 'n_faces', 't_fix', 't_collapse', 'epsilon', 't_vertex', 't_edge', 't_wave'])"
   ]
  },
  {
   "cell_type": "code",
   "execution_count": 7,
   "metadata": {},
   "outputs": [
    {
     "data": {
      "text/html": [
       "<div>\n",
       "<style scoped>\n",
       "    .dataframe tbody tr th:only-of-type {\n",
       "        vertical-align: middle;\n",
       "    }\n",
       "\n",
       "    .dataframe tbody tr th {\n",
       "        vertical-align: top;\n",
       "    }\n",
       "\n",
       "    .dataframe thead th {\n",
       "        text-align: right;\n",
       "    }\n",
       "</style>\n",
       "<table border=\"1\" class=\"dataframe\">\n",
       "  <thead>\n",
       "    <tr style=\"text-align: right;\">\n",
       "      <th></th>\n",
       "      <th>bodyId</th>\n",
       "      <th>n_faces</th>\n",
       "      <th>t_fix</th>\n",
       "      <th>t_collapse</th>\n",
       "      <th>epsilon</th>\n",
       "      <th>t_vertex</th>\n",
       "      <th>t_edge</th>\n",
       "      <th>t_wave</th>\n",
       "    </tr>\n",
       "  </thead>\n",
       "  <tbody>\n",
       "    <tr>\n",
       "      <th>0</th>\n",
       "      <td>198469830</td>\n",
       "      <td>740</td>\n",
       "      <td>0.001584</td>\n",
       "      <td>3.720247</td>\n",
       "      <td>0.173078</td>\n",
       "      <td>0.020525</td>\n",
       "      <td>0.246904</td>\n",
       "      <td>0.014989</td>\n",
       "    </tr>\n",
       "    <tr>\n",
       "      <th>1</th>\n",
       "      <td>199156210</td>\n",
       "      <td>2124</td>\n",
       "      <td>0.002288</td>\n",
       "      <td>13.279709</td>\n",
       "      <td>0.318690</td>\n",
       "      <td>0.042487</td>\n",
       "      <td>1.052646</td>\n",
       "      <td>0.024209</td>\n",
       "    </tr>\n",
       "    <tr>\n",
       "      <th>2</th>\n",
       "      <td>202230012</td>\n",
       "      <td>2378</td>\n",
       "      <td>0.002343</td>\n",
       "      <td>9.247649</td>\n",
       "      <td>0.121506</td>\n",
       "      <td>0.159847</td>\n",
       "      <td>1.307184</td>\n",
       "      <td>0.035623</td>\n",
       "    </tr>\n",
       "    <tr>\n",
       "      <th>3</th>\n",
       "      <td>202916528</td>\n",
       "      <td>23666</td>\n",
       "      <td>0.018311</td>\n",
       "      <td>12.435760</td>\n",
       "      <td>0.085555</td>\n",
       "      <td>0.630503</td>\n",
       "      <td>39.169587</td>\n",
       "      <td>0.542073</td>\n",
       "    </tr>\n",
       "    <tr>\n",
       "      <th>4</th>\n",
       "      <td>203240076</td>\n",
       "      <td>6728</td>\n",
       "      <td>0.003969</td>\n",
       "      <td>58.163548</td>\n",
       "      <td>0.306007</td>\n",
       "      <td>0.151752</td>\n",
       "      <td>5.740744</td>\n",
       "      <td>0.146365</td>\n",
       "    </tr>\n",
       "  </tbody>\n",
       "</table>\n",
       "</div>"
      ],
      "text/plain": [
       "      bodyId  n_faces     t_fix  t_collapse   epsilon  t_vertex     t_edge  \\\n",
       "0  198469830      740  0.001584    3.720247  0.173078  0.020525   0.246904   \n",
       "1  199156210     2124  0.002288   13.279709  0.318690  0.042487   1.052646   \n",
       "2  202230012     2378  0.002343    9.247649  0.121506  0.159847   1.307184   \n",
       "3  202916528    23666  0.018311   12.435760  0.085555  0.630503  39.169587   \n",
       "4  203240076     6728  0.003969   58.163548  0.306007  0.151752   5.740744   \n",
       "\n",
       "     t_wave  \n",
       "0  0.014989  \n",
       "1  0.024209  \n",
       "2  0.035623  \n",
       "3  0.542073  \n",
       "4  0.146365  "
      ]
     },
     "execution_count": 7,
     "metadata": {},
     "output_type": "execute_result"
    }
   ],
   "source": [
    "benched.head()"
   ]
  },
  {
   "cell_type": "code",
   "execution_count": 8,
   "metadata": {},
   "outputs": [
    {
     "data": {
      "text/html": [
       "<div>\n",
       "<style scoped>\n",
       "    .dataframe tbody tr th:only-of-type {\n",
       "        vertical-align: middle;\n",
       "    }\n",
       "\n",
       "    .dataframe tbody tr th {\n",
       "        vertical-align: top;\n",
       "    }\n",
       "\n",
       "    .dataframe thead th {\n",
       "        text-align: right;\n",
       "    }\n",
       "</style>\n",
       "<table border=\"1\" class=\"dataframe\">\n",
       "  <thead>\n",
       "    <tr style=\"text-align: right;\">\n",
       "      <th></th>\n",
       "      <th>bodyId</th>\n",
       "      <th>n_faces</th>\n",
       "      <th>t_fix</th>\n",
       "      <th>t_collapse</th>\n",
       "      <th>epsilon</th>\n",
       "      <th>t_vertex</th>\n",
       "      <th>t_edge</th>\n",
       "      <th>t_wave</th>\n",
       "    </tr>\n",
       "  </thead>\n",
       "  <tbody>\n",
       "  </tbody>\n",
       "</table>\n",
       "</div>"
      ],
      "text/plain": [
       "Empty DataFrame\n",
       "Columns: [bodyId, n_faces, t_fix, t_collapse, epsilon, t_vertex, t_edge, t_wave]\n",
       "Index: []"
      ]
     },
     "execution_count": 8,
     "metadata": {},
     "output_type": "execute_result"
    }
   ],
   "source": [
    "benched[benched.epsilon > 1]"
   ]
  },
  {
   "cell_type": "code",
   "execution_count": 9,
   "metadata": {},
   "outputs": [
    {
     "data": {
      "image/png": "[encoded data removed]",
      "text/plain": [
       "<Figure size 432x288 with 1 Axes>"
      ]
     },
     "metadata": {
      "needs_background": "light"
     },
     "output_type": "display_data"
    }
   ],
   "source": [
    "ax = sns.regplot(data=benched, x='n_faces', y='t_collapse', label='mesh contraction', order=2,)\n",
    "_ = sns.regplot(data=benched, x='n_faces', y='t_vertex', label='vertex clustering\\n(skeletonization)', ax=ax)\n",
    "_ = sns.regplot(data=benched, x='n_faces', y='t_edge', label='edge collapse\\n(skeletonization)', order=2, ax=ax)\n",
    "\n",
    "ax.legend()\n",
    "\n",
    "ax.set_xlabel('faces')\n",
    "ax.set_ylabel('time [s]')\n",
    "\n",
    "sns.despine(trim=True)\n",
    "plt.savefig('benchmark_1.png')"
   ]
  },
  {
   "cell_type": "code",
   "execution_count": 10,
   "metadata": {},
   "outputs": [
    {
     "data": {
      "image/png": "[encoded data removed]",
      "text/plain": [
       "<Figure size 1440x288 with 4 Axes>"
      ]
     },
     "metadata": {
      "needs_background": "light"
     },
     "output_type": "display_data"
    }
   ],
   "source": [
    "fig, axes = plt.subplots(1, 4, figsize=(20, 4), sharex=True)\n",
    "\n",
    "_ = sns.regplot(data=benched, x='n_faces', y='t_collapse', label='mesh contraction', ax=axes[0], color='b')\n",
    "_ = sns.regplot(data=benched, x='n_faces', y='t_vertex', label='vertex clustering\\n(skeletonization)', order=2, ax=axes[1], color='orange')\n",
    "_ = sns.regplot(data=benched, x='n_faces', y='t_wave', label='wave fronts\\n(skeletonization)', order=2, ax=axes[2], color='r')\n",
    "_ = sns.regplot(data=benched, x='n_faces', y='t_edge', label='edge collapse\\n(skeletonization)', order=2, ax=axes[3], color='g')\n",
    "\n",
    "for ax in axes:\n",
    "    ax.ticklabel_format(axis='x', style='sci', scilimits=(0, 0))\n",
    "    ax.legend()\n",
    "    ax.set_xlabel('faces')\n",
    "    ax.set_ylabel('time [s]')\n",
    "\n",
    "sns.despine(trim=False)\n",
    "plt.tight_layout()\n",
    "plt.savefig('benchmark_2.png')"
   ]
  }
 ],
 "metadata": {
  "kernelspec": {
   "display_name": "Python 3",
   "language": "python",
   "name": "python3"
  },
  "language_info": {
   "codemirror_mode": {
    "name": "ipython",
    "version": 3
   },
   "file_extension": ".py",
   "mimetype": "text/x-python",
   "name": "python",
   "nbconvert_exporter": "python",
   "pygments_lexer": "ipython3",
   "version": "3.7.5"
  }
 },
 "nbformat": 4,
 "nbformat_minor": 4
}
